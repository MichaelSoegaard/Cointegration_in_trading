{
 "cells": [
  {
   "cell_type": "markdown",
   "id": "de66c512-f7a5-4bb6-80e3-b615f90c1a27",
   "metadata": {},
   "source": [
    "## Pairs trading by cointegration in forex"
   ]
  },
  {
   "cell_type": "markdown",
   "id": "7c1eb76e-c43f-4fcc-97c0-1974440efc66",
   "metadata": {},
   "source": [
    "---\n",
    "In this project I want to test whether it is possible to utilize a feasible trading strategy using cointegration. Previously it has been proven that two pairs of assets that tend to be cointegrated, that is tend to follow the same trend and over time keep a spread within a boundary. When the spread widens it also tends to seek back to the mean. The plan is to trade taht spread as it is wide to expect it to return to the mean. We can do that by buying one asset and selling the other asset. In theory it should give some sort of return with a low risk as we hedge the trade (buy one and sell another asset).\n",
    "\n",
    "I have chosen to use forex pairs as they don't need to be adjusted for dividens etc., and they are very liquid thus making them easier to enter and exit in contrast to a low liquid stock from a small company. A thing to remember when using forex as asstes to this strategy is that we actualle trade two pairs as one asset consists of two currencies like AUDUSD vs. NZDUSD, which is the Australien dollar vs. US dollar hedged againt New Zealand dollar vs. US dollar. \n",
    "\n",
    "The first thing we are going to do is to test which pairs are correlated and cointegrated. Be aware that a pair can be highly correlated but not cointegrated and in that cas won't be a good candidate for pairs trading using this strategy.\n",
    "\n",
    "Then we select a good candidate and simulate trading to find the optimal parameters for our lookback period and when to bue and sell the assets in relation to the spread.\n",
    "\n",
    "---"
   ]
  },
  {
   "cell_type": "markdown",
   "id": "bb3753f7-00b2-4927-a7ff-8f83e8d5911a",
   "metadata": {},
   "source": [
    "#### 1. Import libraries and define parameters for data load"
   ]
  },
  {
   "cell_type": "code",
   "execution_count": 3,
   "id": "d45938ad-d7b9-48fc-ae81-f57add4439e7",
   "metadata": {},
   "outputs": [],
   "source": [
    "import pandas as pd\n",
    "import numpy as np\n",
    "from itertools import combinations\n",
    "from heatmap import corrplot\n",
    "import matplotlib.pyplot as plt\n",
    "import seaborn as sns\n",
    "from statsmodels.regression.linear_model import OLS\n",
    "from statsmodels.regression.rolling import RollingOLS\n",
    "import statsmodels.api as sm\n",
    "from sklearn import linear_model\n",
    "from arch.unitroot import ADF, engle_granger\n",
    "from Plot_timeformat import CustomFormatter\n",
    "from numpy.lib.stride_tricks import sliding_window_view as view\n",
    "%config Completer.use_jedi = True\n",
    "%config InlineBackend.figure_format = 'retina' # Get nicer looking graphs for retina displays\n",
    "\n",
    "sns.set_style('white')"
   ]
  },
  {
   "cell_type": "code",
   "execution_count": null,
   "id": "3261150f-ceb8-410f-a9bb-9e56393f911a",
   "metadata": {},
   "outputs": [],
   "source": [
    "FOLDER = \"D:/data/raw/h1_2022/\"\n",
    "COLS = ['Open','High','Low','Close','Volume']\n",
    "symbols = ['AUDCAD', 'AUDCHF', 'AUDJPY', 'AUDNZD', 'AUDUSD', 'CADCHF', 'CHFJPY', 'EURJPY', 'EURUSD', 'GBPJPY', 'GBPUSD', 'NZDUSD', 'USDCAD', 'USDCHF', 'USDJPY', 'XAGUSD', 'XAUUSD']"
   ]
  },
  {
   "cell_type": "code",
   "execution_count": null,
   "id": "d5cf6020-4da8-4c7b-a4d1-7eca6c85bc07",
   "metadata": {},
   "outputs": [],
   "source": [
    "def load_pairs(symbols):\n",
    "    data = {}\n",
    "    for symbol in symbols:  \n",
    "        data[symbol] = pd.read_csv(f\"{FOLDER}2022.1.18{symbol}_UTCPlus02-H1-No Session.csv\", parse_dates=[['Date', 'Time']], index_col='Date_Time')\n",
    "        data[symbol].index = pd.to_datetime(data[symbol].index, format=\"%Y-%m-%d-%H\").to_period('H')\n",
    "        data[symbol].drop(['Open', 'Volume'], inplace=True, axis=1)\n",
    "    df = pd.concat(data, keys=(symbols), axis=1).dropna()\n",
    "    df = df[df.index.dayofweek < 5]\n",
    "    return df"
   ]
  },
  {
   "cell_type": "code",
   "execution_count": null,
   "id": "cfeba1d8-003c-4e31-b74c-e8fed6a5aba2",
   "metadata": {},
   "outputs": [],
   "source": [
    "def get_close(df):\n",
    "    df_close = df.loc[:, (slice(None), 'Close')]\n",
    "    df_close = df_close.droplevel(axis=1, level=1)\n",
    "    return df_close"
   ]
  },
  {
   "cell_type": "code",
   "execution_count": null,
   "id": "cf6178bd-ca09-4c54-ba9b-4b2dac09bde7",
   "metadata": {},
   "outputs": [],
   "source": [
    "# Helper function for converting datetime index from period to ordinary datetime\n",
    "\n",
    "def ts_convert(df):\n",
    "    new_df = df.reset_index()\n",
    "    new_df['Date_Time'] = new_df['Date_Time'].dt.to_timestamp()\n",
    "    df_formatter = CustomFormatter(new_df['Date_Time'])\n",
    "    return df_formatter"
   ]
  },
  {
   "cell_type": "code",
   "execution_count": null,
   "id": "42d7aea1-4acd-426f-b602-fc22763af4ee",
   "metadata": {},
   "outputs": [],
   "source": [
    "data = load_pairs(symbols)"
   ]
  },
  {
   "cell_type": "code",
   "execution_count": null,
   "id": "eff5df5c-0533-41ff-a73e-540fcfd0320c",
   "metadata": {},
   "outputs": [],
   "source": [
    "df_close = get_close(data)"
   ]
  },
  {
   "cell_type": "markdown",
   "id": "9e3e64da-6c9a-4db8-b39f-aa7a93eac93c",
   "metadata": {},
   "source": [
    "---\n",
    "Every asset is loaded as 1 hour bars containing \"Open\", \"Close\", \"High\", \"Low\" and \"Volume\". In this strategy we will only use the closing price of each bar.\n",
    "\n",
    "#### 2. Check which assets are correlated as it can give us a hint of which pairs are cointegrated.\n",
    "In the correlationplot below the correlation is shown by how big the square is. The bigger the square, the higer correlation. \n",
    "\n",
    "---"
   ]
  },
  {
   "cell_type": "code",
   "execution_count": null,
   "id": "601b828c-12b0-4f3d-b6a4-52f4c8a8c890",
   "metadata": {},
   "outputs": [],
   "source": [
    "df_returns = df_close.pct_change().dropna()\n",
    "df_corr = df_returns.corr()\n",
    "plt.figure(figsize=(10, 10))\n",
    "corrplot(df_corr)"
   ]
  },
  {
   "cell_type": "markdown",
   "id": "13cd30c6-959c-4434-9ab9-a9bf443f85ad",
   "metadata": {},
   "source": [
    "---\n",
    "Let's plot one of the correlated pairs to see if the price are actually following the same pattern. <br />\n",
    "When you look at it it seems as if they're mostly following the same pattern in the beginning and then by the end it starts \n",
    "to move away from each other. <br /> But that's actually not a problem as we will look at their pattern in a much smaller \"window\" than the four year period shown below. Let's also plot the last plot in a smaller window. \n",
    "\n",
    "---"
   ]
  },
  {
   "cell_type": "code",
   "execution_count": null,
   "id": "561ba17e-5e6c-4707-b71c-aba0b1322cba",
   "metadata": {},
   "outputs": [],
   "source": [
    "df_returns"
   ]
  },
  {
   "cell_type": "code",
   "execution_count": null,
   "id": "403a23e9-4496-441c-bf67-1e0fbdc4496d",
   "metadata": {},
   "outputs": [],
   "source": [
    "def plot_assets(df, pair, YEAR, YEAR_END):\n",
    "    df_formatter = ts_convert(df.loc[YEAR:YEAR_END])\n",
    "    fig, ax = plt.subplots(figsize=(16,6))\n",
    "    ax.xaxis.set_major_formatter(df_formatter)\n",
    "    ax.plot((1+df.loc[YEAR:YEAR_END,pair[0]]).values.cumprod()-1, color='orchid', label='AUDCHF')\n",
    "    ax.plot((1+df.loc[YEAR:YEAR_END,pair[1]]).values.cumprod()-1, color='navy', label='CADCHF')\n",
    "    plt.title(f'{pair[0]} / {pair[1]} PRICES FOR {YEAR} - {YEAR_END}')\n",
    "    plt.legend(title='Assets')\n",
    "    plt.show()\n",
    "\n",
    "PAIR = ['AUDCHF', 'CADCHF']\n",
    "plot_assets(df_returns, PAIR, '2016', '2019')"
   ]
  },
  {
   "cell_type": "code",
   "execution_count": null,
   "id": "796d96a6-4c7b-4060-8861-457651b5056d",
   "metadata": {},
   "outputs": [],
   "source": [
    "plot_assets(df_returns, PAIR, '2019-7', '2019')"
   ]
  },
  {
   "cell_type": "markdown",
   "id": "a90c6e28-c4f8-4413-8756-e5933c6a6ed2",
   "metadata": {},
   "source": [
    "---\n",
    "Prices are actually still pretty correlated (and also cointegrated as it will later show) -as long as we model the data using a smaller window, which is excatly what we will do.\n",
    "\n",
    "#### 3. Check for cointegration between the pairs\n",
    "To begin with we are going to use the four year training data to test for cointegration. The first step is to calculate the ratio at which the two pairs change.<br /> We can calculate that by doing a simple linear regression and using the coefficient to get the residuals, which is the spread we are looking for.<br />\n",
    "<br />\n",
    "The spread shows us how big the distance is between the two pairs. When the spread widens we can decide to take on a trade with the expectation that it,<br /> at some point, will revert back to the mean of the spread.\n",
    "\n",
    "---"
   ]
  },
  {
   "cell_type": "code",
   "execution_count": null,
   "id": "672a1646-e938-4a1a-8ffe-3215bddf4f6c",
   "metadata": {},
   "outputs": [],
   "source": [
    "YEAR = '2016'\n",
    "YEAR_END = '2019'\n",
    "def get_spread(df):\n",
    "    X = np.log(df.loc[YEAR:YEAR_END,PAIR[0]])\n",
    "    X = np.expand_dims(np.array(X), axis=1)\n",
    "    y = np.log(df.loc[YEAR:YEAR_END,PAIR[1]])\n",
    "    regr = linear_model.LinearRegression().fit(X, y) \n",
    "    beta = regr.coef_[0]\n",
    "    alpha = regr.intercept_\n",
    "    spread = y.values - np.squeeze(X) * beta + alpha\n",
    "    return spread, beta"
   ]
  },
  {
   "cell_type": "code",
   "execution_count": null,
   "id": "9d18ec3f-07c5-4251-a47c-db3797d457a8",
   "metadata": {},
   "outputs": [],
   "source": [
    "spread, beta = get_spread(df_close)"
   ]
  },
  {
   "cell_type": "markdown",
   "id": "4240613b-8845-46fd-b519-da0184508e76",
   "metadata": {},
   "source": [
    "---\n",
    "Now we have the spread we can test the spread for a unit root. If it doesn't the pairs are cointegrated. So our Null hypothesis is that the pairs have a unit root and our alternative hyposis is that it doesn't. <br />\n",
    "To test for unit root we use the Augmented Dickey-Fuller test. <br />\n",
    "The result we get is a T-statistics of -3.860 which is lower than all of the 10%, 5% and 1% tests and thus the pairs are cointegrated.\n",
    "\n",
    "---"
   ]
  },
  {
   "cell_type": "code",
   "execution_count": null,
   "id": "28a4c90f-03a1-488b-bcf8-49df411c2be2",
   "metadata": {},
   "outputs": [],
   "source": [
    "adf = ADF(spread)\n",
    "adf.summary()"
   ]
  },
  {
   "cell_type": "markdown",
   "id": "929a4885-174c-458c-8464-d0672a6183f8",
   "metadata": {},
   "source": [
    "---\n",
    "Now , let's have a look at how the spread is distributed. As expected the values is close to be normal distributed. <br /> \n",
    "The plan is to enter a trade when the value reaches some threshold eg. two standard deviations from the mean. <br />\n",
    "To make it easier to relate to and define we are going to normalize the spread by calculating the Z-score.\n",
    "\n",
    "---"
   ]
  },
  {
   "cell_type": "code",
   "execution_count": null,
   "id": "70753f65-909e-4ab7-8944-1376fc4de34a",
   "metadata": {},
   "outputs": [],
   "source": [
    "fig, ax = plt.subplots(figsize=(12,6))\n",
    "sns.histplot(spread, ax=ax)\n",
    "ax.set(title=\"SPREAD\")\n",
    "ax.axvline(x=spread.mean(), label='Mean', linestyle='--', color='r')\n",
    "ax.legend()\n",
    "plt.show()"
   ]
  },
  {
   "cell_type": "code",
   "execution_count": null,
   "id": "2ef4feab-aa0d-4d8a-8842-62ab763dbc4d",
   "metadata": {},
   "outputs": [],
   "source": [
    "Z_score = (spread - spread.mean()) / np.std(spread)\n",
    "\n",
    "fig, ax = plt.subplots(figsize=(12,6))\n",
    "sns.histplot(Z_score, ax=ax)\n",
    "ax.axvline(x=0, label='Mean', linestyle='--', color='r')\n",
    "ax.legend()\n",
    "ax.set(title=\"SPREAD NORMALIZED TO Z-SCORE\")\n",
    "plt.show()"
   ]
  },
  {
   "cell_type": "markdown",
   "id": "501a75a7-f0f0-4f08-9637-2af69772b412",
   "metadata": {},
   "source": [
    "---\n",
    "We can take a look below at how the spread moves in relation to the two assets. As the spread widens, the Z-score moves away from the mean (0).\n",
    "\n",
    "---"
   ]
  },
  {
   "cell_type": "code",
   "execution_count": null,
   "id": "f91379a3-51cd-4eb3-afbc-8dd7454306b2",
   "metadata": {},
   "outputs": [],
   "source": [
    "def regression(x,y):\n",
    "        reg = linear_model.LinearRegression()\n",
    "        x_constant = np.column_stack([np.ones(x.shape[0]), x])\n",
    "        reg.fit(x_constant, y)\n",
    "        beta = reg.coef_[1]\n",
    "        alpha = reg.intercept_\n",
    "        spread = y - x*beta + alpha\n",
    "        return spread, beta\n",
    "\n",
    "# Calculate Z-score for shorter period\n",
    "coint = np.log(df_close.loc['2016':'2016-1',PAIR])\n",
    "spread, beta = regression(coint[PAIR[0]], coint[PAIR[1]])\n",
    "Z_score = (spread - spread.mean()) / np.std(spread)\n",
    "\n",
    "df_formatter = ts_convert(coint)\n",
    "\n",
    "# Plot data\n",
    "fig, (ax1, ax2) = plt.subplots(2,1, sharex=True, figsize=(12,12))\n",
    "ax1.xaxis.set_major_formatter(df_formatter)\n",
    "ax1.plot(np.arange(len(coint)), coint['AUDCHF'], label='AUDCHF')\n",
    "ax1.plot(np.arange(len(coint)), coint['CADCHF'], color='k', label='CADCHF')\n",
    "ax2.plot(np.arange(len(coint)), s['Z-score'], color='r', label='Z-score')\n",
    "ax2.axhline(0, color='black', label='Mean', linestyle='--')\n",
    "ax1.set_title('ASSET PRICES')\n",
    "ax2.set_title('SPREAD')\n",
    "fig.autofmt_xdate()\n",
    "ax1.set(ylabel='Price')\n",
    "ax2.set(ylabel='Z-Score')\n",
    "ax1.legend(loc=\"lower left\")\n",
    "ax2.legend(loc=\"upper left\")\n",
    "ax1.savefig('spread_stock.png')\n",
    "plt.show()"
   ]
  },
  {
   "cell_type": "markdown",
   "id": "1d1a7c77-a4e1-4768-a7b1-e7f69351fa7b",
   "metadata": {},
   "source": [
    "---\n",
    "#### Systematic cointegration test for multiple assets\n",
    "\n",
    "Now lets test all of our assets and pair-wise test if they are cointegrated. <br />\n",
    "I have created two funtion. The first one test for correlation. We could use that to get a hint of which pairs to take a closer look at. <br />\n",
    "Next I have created a function (check_cointegration) that runs through all the pair-wise combinations and checks them for cointegration. The function returns a dataframe with stats on all the pairs.\n",
    "\n",
    "---"
   ]
  },
  {
   "cell_type": "code",
   "execution_count": null,
   "id": "7ca9b04c-b30e-4cd6-9891-c3a2ce6f2c68",
   "metadata": {},
   "outputs": [],
   "source": [
    "def check_correlation(data, symbols):\n",
    "    df_returns = data.pct_change().dropna()\n",
    "    df_corr = df_returns.corr()\n",
    "    sorted_mat = df_corr.unstack().sort_values(ascending=False)\n",
    "    corr_pairs = sorted_mat[(abs(sorted_mat) > 0.7) & (abs(sorted_mat) < 1.0)].iloc[::2]\n",
    "    print(corr_pairs)\n",
    "    return sorted_mat"
   ]
  },
  {
   "cell_type": "code",
   "execution_count": null,
   "id": "73b94d8e-2ab8-49f7-a0c3-1c9bdf034f84",
   "metadata": {},
   "outputs": [],
   "source": [
    "def check_cointegration(df, corr_pairs, start, end):\n",
    "    \n",
    "    if isinstance(corr_pairs, list):\n",
    "        corr_pairs = list(combinations(symbols, 2))\n",
    "    else:\n",
    "        corr_pairs = list(corr_pairs.index)\n",
    "    \n",
    "    result = pd.DataFrame(columns=['X', 'y', 'P_value', 'Coef', 'Test', '1 %', '5 %', '10 %'], index=list(range(len(corr_pairs)*2)))\n",
    "    dfs = {}\n",
    "    df_log = np.log(df.loc[start:end,:])\n",
    "    i = 0\n",
    "    \n",
    "    for pair in corr_pairs:\n",
    "        pair = list(pair)\n",
    "        df_pair = df_log.loc[:,pair]\n",
    "        df_pair = sm.add_constant(df_pair)\n",
    "        for symbol in pair:\n",
    "            spread = pd.Series(dtype='float64')\n",
    "            X = df_pair.loc[:, df_pair.columns != symbol].values\n",
    "            y = df_pair[symbol].values.reshape(-1,1)\n",
    "            reg = sm.OLS(y, X).fit()\n",
    "            spread = y - (X[:,1:2] * reg.params[1])\n",
    "            adf = ADF(spread.reshape(-1,), lags=1)\n",
    "            result.iloc[i]['X'] = pair[1 - i%2]\n",
    "            result.iloc[i]['y'] = symbol\n",
    "            result.iloc[i]['P_value'] = adf.pvalue\n",
    "            result.iloc[i]['Coef'] = reg.params[1]\n",
    "            result.iloc[i]['Test'] = adf.stat\n",
    "            result.iloc[i]['1 %'] = list(adf.critical_values.values())[0]\n",
    "            result.iloc[i]['5 %'] = list(adf.critical_values.values())[1]\n",
    "            result.iloc[i]['10 %'] = list(adf.critical_values.values())[2]\n",
    "            prev_spread = spread\n",
    "            if i%2 == 1 and result.iloc[i]['P_value'] > result.iloc[i-1]['P_value']:\n",
    "                spread = prev_spread\n",
    "            i +=1\n",
    "        df_pair = df_pair.loc[:,pair]\n",
    "        df_pair['Spread'] = spread\n",
    "        dfs['-'.join(pair)] = df_pair\n",
    "\n",
    "    df = pd.concat(dfs, keys=(dfs.keys()), axis=1).dropna()\n",
    "    result\n",
    "    return result, df"
   ]
  },
  {
   "cell_type": "code",
   "execution_count": null,
   "id": "f2f39196-f503-406c-9c1c-95c3d78d1b95",
   "metadata": {},
   "outputs": [],
   "source": [
    "corr_pairs = check_correlation(df_close, symbols)"
   ]
  },
  {
   "cell_type": "code",
   "execution_count": null,
   "id": "a2a54cd4-e548-4eee-be59-ae0bba638d82",
   "metadata": {},
   "outputs": [],
   "source": [
    "result, dfs = check_cointegration(df_close, symbols, start='2016', end='2019')"
   ]
  },
  {
   "cell_type": "markdown",
   "id": "6dd46615-fd45-440a-9753-7431d2cfbec6",
   "metadata": {},
   "source": [
    "---\n",
    "Below is the returned dataframe. <br />\n",
    "\n",
    "**\"10 %\" is the threshold for the 90% confidence interval**<br />\n",
    "**\"5 %\" is the threshold for the 95% confidence interval**<br />\n",
    "**\"1 %\" is the threshold for the 99% confidence interval**<br />\n",
    "**\"Test\" is the test statistic, or threshold, we use to define the confidence for our cointegration test**<br />\n",
    "**\"Coef\" is the coefficient returned fomr the linear regression. We use this to calculate the spread and as a ratio between the trades sizes of the two assets.**<br />\n",
    "\n",
    "\n",
    "Because the test returns a lot of cointegrated pairs we can be very picky and only show pairs that are cointegrated with 99% confidence, ie. the P-value is lower than 0.01<br />\n",
    "\n",
    "Now we have a list of all the possible cointegrated pairs. Next we will choose a pair to focus on and test to find the optimal Z-score (Standard deviation) for our trades.\n",
    "\n",
    "---\n"
   ]
  },
  {
   "cell_type": "code",
   "execution_count": null,
   "id": "0a3483c6-bd4a-4efa-ab0d-d97b2ba2ec27",
   "metadata": {},
   "outputs": [],
   "source": [
    "result[result['P_value'] < 0.01].sort_values(['P_value']).head(30)"
   ]
  },
  {
   "cell_type": "markdown",
   "id": "94acd126-302c-4ea9-8375-f9a4ceab9436",
   "metadata": {},
   "source": [
    "---\n",
    "#### Finding the optimal thresholds for trades\n",
    "\n",
    "From the above results I have chosen to use the two assets \"AUDCHF\" and \"CADCHF\" as our trading pair as they have the same basecurrency (\"CHF\"). <br />\n",
    "If we would go on and start trading this pair it will make things simpler and potentially cheaper in commission to have the same base currency.\n",
    "\n",
    "To find the optimal lookback window size and threshold for entering trades we will simulate trading using the different parameters. <br />\n",
    "First step is to calculate the spread using different windowsizes and then we will utilize a trade-engine function which will simulate trades at defined thresholds.\n",
    "\n",
    "We are going to create 70 different models and runs each them through our trade-engine. That is going to take some time, but it's time well spent to get the insight of which paramters works the best.<br />\n",
    "To speed the processes up at much as possible, within the boundries of running it on my local machine, I have focused on uptimizing the code to run faster.\n",
    "\n",
    "---"
   ]
  },
  {
   "cell_type": "code",
   "execution_count": null,
   "id": "9236cee7-d1b3-4fca-a0d3-06991870300d",
   "metadata": {},
   "outputs": [],
   "source": [
    "# Function to create a model based on pair input and window size for the rolling window\n",
    "\n",
    "def CreateModel(p1, p2, pair, window):   \n",
    "    MEAN_S = 5\n",
    "    reg_df = pd.DataFrame()\n",
    "\n",
    "    reg_df['X_p1'] = np.log(p1.loc[:,'Close'])\n",
    "    reg_df['y_p2'] = np.log(p2.loc[:,'Close'])\n",
    "\n",
    "    reg = RollingOLS.from_formula('y_p2 ~ X_p1 -1', window=window, data=reg_df).fit()\n",
    "    ratio = reg.params[window:].values\n",
    "\n",
    "    X = reg_df['X_p1'] \n",
    "    y = reg_df['y_p2']\n",
    "\n",
    "    df_window = view(reg_df, window, axis=0)\n",
    "    spreads = [df_window[i,1] - (ratio[i] * df_window[i,0]) for i in range(df_window.shape[0]-1)]\n",
    "    short_mean= [x[-3:].mean() for x in spreads]\n",
    "    mean= [x.mean() for x in spreads]\n",
    "    std= [x.std() for x in spreads]\n",
    "    y = [v[-1] for v in spreads]\n",
    "    Z = (np.array(short_mean) - np.array(mean)) / np.array(std)\n",
    "    #Z = (np.array(y) - np.array(mean)) / np.array(std)\n",
    "    \n",
    "    return Z"
   ]
  },
  {
   "cell_type": "code",
   "execution_count": null,
   "id": "1dba47a2-ba10-47b9-8273-c20d6d272799",
   "metadata": {},
   "outputs": [],
   "source": [
    "# A class to act as our trading evironment to buy and sell the pairs\n",
    "\n",
    "class TradeEngine:\n",
    "    def __init__(self, pair, p1, p2, Z, threshold, window):\n",
    "        self.p1 = p1.iloc[window:,:]\n",
    "        self.p2 = p2.iloc[window:,:]\n",
    "        self.PAIR = pair\n",
    "        self.Z = Z\n",
    "        self.threshold = threshold\n",
    "        columns = pd.MultiIndex(levels=[self.PAIR, list(['Entry', 'Exit', 'Profit', 'Drawdown'])], codes=[[0,0,0,0,1,1,1,1],[0,1,2,3,0,1,2,3]])\n",
    "        self.trades = pd.DataFrame(index=self.p1.index, columns=columns)\n",
    "        self.direction = None\n",
    "        self.reset = [99, -1]\n",
    "        self.P1_MinMax = self.reset\n",
    "        self.P2_MinMax = self.reset\n",
    "        self.p1_profit = []\n",
    "        self.p2_profit = []\n",
    "        self.p1_entry = 0\n",
    "        self.p2_entry = 0\n",
    "        self.exit = 0\n",
    "        self.symbol_factor = 10000\n",
    "        \n",
    "    def entry(self, i):\n",
    "        self.p1_entry = self.p1['Close'].iloc[i]\n",
    "        self.p2_entry = self.p2['Close'].iloc[i]\n",
    "        self.trades.loc[self.p1.iloc[i].name, self.PAIR[0]]['Entry'] = self.p1_entry\n",
    "        self.trades.loc[self.p2.iloc[i].name, self.PAIR[1]]['Entry'] = self.p2_entry\n",
    "\n",
    "    def close(self, i):\n",
    "        if self.direction == 'long':\n",
    "            self.p1_profit.append((self.p1['Close'].iloc[i] - self.p1_entry) * self.symbol_factor)\n",
    "            self.p2_profit.append((self.p2_entry - self.p2['Close'].iloc[i]) * self.symbol_factor)\n",
    "            self.trades.loc[self.p1.iloc[i].name, self.PAIR[0]]['Exit'] = self.p1['Close'].iloc[i]\n",
    "            self.trades.loc[self.p2.iloc[i].name, self.PAIR[1]]['Exit'] = self.p2['Close'].iloc[i]\n",
    "            self.trades.loc[self.p1.iloc[i].name, self.PAIR[0]]['Profit'] = self.p1_profit[-1]\n",
    "            self.trades.loc[self.p2.iloc[i].name, self.PAIR[1]]['Profit'] = self.p2_profit[-1]\n",
    "            self.trades.loc[self.p1.iloc[i].name, self.PAIR[0]]['Drawdown'] = (self.p1_entry - self.P1_MinMax[0]) * self.symbol_factor\n",
    "            self.trades.loc[self.p2.iloc[i].name, self.PAIR[1]]['Drawdown'] = (self.P2_MinMax[1] - self.p2_entry) * self.symbol_factor\n",
    "            self.P1_MinMax = self.reset\n",
    "            self.P2_MinMax = self.reset\n",
    "\n",
    "        elif self.direction == 'short':\n",
    "            self.p2_profit.append((self.p2['Close'].iloc[i] - self.p2_entry) * self.symbol_factor)\n",
    "            self.p1_profit.append((self.p1_entry - self.p1['Close'].iloc[i]) * self.symbol_factor)\n",
    "            self.trades.loc[self.p2.iloc[i].name, self.PAIR[1]]['Exit'] = self.p2['Close'].iloc[i]\n",
    "            self.trades.loc[self.p1.iloc[i].name, self.PAIR[0]]['Exit'] = self.p1['Close'].iloc[i]\n",
    "            self.trades.loc[self.p2.iloc[i].name, self.PAIR[1]]['Profit'] = self.p2_profit[-1]\n",
    "            self.trades.loc[self.p1.iloc[i].name, self.PAIR[0]]['Profit'] = self.p1_profit[-1]\n",
    "            self.trades.loc[self.p2.iloc[i].name, self.PAIR[1]]['Drawdown'] = (self.p2_entry - self.P2_MinMax[0]) * self.symbol_factor\n",
    "            self.trades.loc[self.p1.iloc[i].name, self.PAIR[0]]['Drawdown'] = (self.P1_MinMax[1] - self.p1_entry) * self.symbol_factor\n",
    "            self.P1_MinMax = self.reset\n",
    "            self.P2_MinMax = self.reset\n",
    "        self.direction = None\n",
    "\n",
    "    def update_MinMax(self, i):\n",
    "        self.P1_MinMax[0] = min(self.p1['Low'].iloc[i], self.P1_MinMax[0])\n",
    "        self.P1_MinMax[1] = max(self.p1['High'].iloc[i], self.P1_MinMax[1])\n",
    "        self.P2_MinMax[0] = min(self.p2['Low'].iloc[i], self.P2_MinMax[0])\n",
    "        self.P2_MinMax[1] = max(self.p2['High'].iloc[i], self.P2_MinMax[1])\n",
    "\n",
    "\n",
    "    def run(self):\n",
    "        for i in range(self.p1.shape[0]-1):\n",
    "            if self.direction != None:\n",
    "                self.update_MinMax(i)\n",
    "            \n",
    "            if self.direction == 'long' and self.Z[i] < self.exit:\n",
    "                self.close(i)\n",
    "                \n",
    "            elif self.direction == 'short' and self.Z[i] > -self.exit:\n",
    "                self.close(i)\n",
    "\n",
    "            elif self.Z[i] > self.threshold:\n",
    "                self.entry(i)\n",
    "                self.direction = 'long'\n",
    "                \n",
    "            elif self.Z[i] < -self.threshold:\n",
    "                self.entry(i)\n",
    "                self.direction = 'short'\n",
    "            else:\n",
    "                pass\n",
    "\n",
    "        return self.trades"
   ]
  },
  {
   "cell_type": "code",
   "execution_count": null,
   "id": "78afd44d-206a-4279-af4e-18605bf8bea4",
   "metadata": {},
   "outputs": [],
   "source": [
    "def get_profit(p1, p2, pair, window, th):\n",
    "    Z = CreateModel(p1, p2, pair, window)\n",
    "    trades = TradeEngine(pair, p1, p2,  Z, th, window).run()\n",
    "    return int(trades[pair[0]]['Profit'].sum()) + int(trades[pair[1]]['Profit'].sum())"
   ]
  },
  {
   "cell_type": "code",
   "execution_count": null,
   "id": "70e2569c-3bb4-413c-a440-ef50209a1dae",
   "metadata": {},
   "outputs": [],
   "source": [
    "YEAR = '2016'\n",
    "YEAR_END = '2019'\n",
    "pair = ['AUDCHF', 'CADCHF']\n",
    "data = load_pairs(pair)\n",
    "p1 = data[pair[0]].loc[YEAR:YEAR_END,:]\n",
    "p2 = data[pair[1]].loc[YEAR:YEAR_END,:]\n",
    "\n",
    "\n",
    "\n",
    "profits = {'Windowsize': [], 'Threshold':[], 'Profit':[]}\n",
    "windows = [10,20,30,40,50,100,150,200]\n",
    "thresholds = [0.5, 0.8, 1.0, 1.2, 1.5, 1.8, 2.2, 2.4, 2.6, 2.8]\n",
    "profits['Windowsize'] = [w for w in windows for _ in thresholds]\n",
    "profits['Threshold'] = [t for _ in windows for t in thresholds]\n",
    "profits['Profit'] = [get_profit(p1, p2, pair, w, t) for t, w in zip(profits['Threshold'], profits['Windowsize'])]"
   ]
  },
  {
   "cell_type": "code",
   "execution_count": null,
   "id": "4b159bd7-18f4-413f-bcc6-af3889061693",
   "metadata": {},
   "outputs": [],
   "source": [
    "pf = pd.DataFrame(profits)\n",
    "fig,ax = plt.subplots(figsize=(15,9))\n",
    "\n",
    "for window in pf['Windowsize'].unique():\n",
    "    ax.plot(pf[pf.Windowsize==window].Threshold, pf[pf.Windowsize==window].Profit, label=window, marker='o')\n",
    "\n",
    "ax.set_xlabel(\"Threshold\")\n",
    "ax.set_ylabel(\"Profit/Pips\")\n",
    "ax.legend(title='Windowsize', loc='best')\n",
    "plt.title(\"PROFITS/THRESHOLD AT VARIOUS WINDOWSIZES\")\n",
    "plt.show()"
   ]
  },
  {
   "cell_type": "markdown",
   "id": "677643e3-919b-4811-9463-8b416ae78070",
   "metadata": {},
   "source": [
    "---\n",
    "After running all the tests we can plot the result. In the figure above it's clear that we achieve the biggest profit with a windowsize of 20 (orange) and a threshold for our Z-score (standarddeviation) of 1.0 <br />\n",
    "We can now recreate a model with the same paramters and take a closer look at the Z-score.\n",
    "\n",
    "One issue with this method of finding the optimal parameters is the risk of overfitting, which is very high in general in timeseries. <br />\n",
    "That's why it's very important to make the final backtest on a out-of-sample set. Up until now I have only used the dataset up to, and including 2019. <br />\n",
    "I still have data from 2020 and 2021 to test on.\n",
    "\n",
    "To get a better sense of how this strategy works I can plot a Z-score with the corresponding entry- and exitpoints for our trades.\n",
    "\n",
    "---"
   ]
  },
  {
   "cell_type": "code",
   "execution_count": null,
   "id": "3274cc5b-fbb0-4a0b-bb6c-3375aa9cd5dd",
   "metadata": {},
   "outputs": [],
   "source": [
    "window = 20\n",
    "threshold = 1.0\n",
    "YEAR = '2017'\n",
    "YEAR_END = '2017-2'\n",
    "pair = [\"AUDCHF\", \"CADCHF\"]\n",
    "\n",
    "p1 = data[\"AUDCHF\"].loc[YEAR:YEAR_END,:]\n",
    "p2 = data[\"CADCHF\"].loc[YEAR:YEAR_END,:]\n",
    "\n",
    "Z = CreateModel(p1, p2, pair, window)\n",
    "trades = TradeEngine(pair, p1, p2,  Z, threshold, window).run()"
   ]
  },
  {
   "cell_type": "code",
   "execution_count": null,
   "id": "d7435b1f-33a7-4a1e-a6b9-209238538230",
   "metadata": {},
   "outputs": [],
   "source": [
    "datetime = pd.Series(p1.iloc[window:,:].index)\n",
    "datetime = datetime.dt.to_timestamp()\n",
    "df_formatter = CustomFormatter(datetime)\n",
    "\n",
    "trades.index = datetime\n",
    "Z = pd.Series(Z, index=datetime)\n",
    "entries = Z.mask(trades['AUDCHF']['Entry'].isna())\n",
    "exits = Z.mask(trades['AUDCHF']['Exit'].isna())"
   ]
  },
  {
   "cell_type": "code",
   "execution_count": null,
   "id": "f9b5f63c-81be-4a7f-ad47-745f823ba85a",
   "metadata": {},
   "outputs": [],
   "source": [
    "# Plot Z-score and entries/exits\n",
    "fig, ax = plt.subplots(figsize=(20, 12))\n",
    "ax.xaxis.set_major_formatter(df_formatter)\n",
    "ax.plot(Z.values, label='Z-score')\n",
    "ax.plot(entries.values, color='g', marker='p', label=\"Entries\")\n",
    "ax.plot(exits.values, color='r', marker='s', label=\"Exits\")\n",
    "ax.axhline(0, color='black')\n",
    "ax.axhline(1.0, color='green', linestyle='--')\n",
    "ax.axhline(-1.0, color='green', linestyle='--')\n",
    "ax.axhline(2.0, color='red', linestyle='--')\n",
    "ax.axhline(-2.0, color='red', linestyle='--')\n",
    "ax.set_ylabel(\"STD. DEV.\")\n",
    "ax.legend()\n",
    "ax.set_title(\"Z-Score with a windowsize of 20\")\n",
    "plt.show()"
   ]
  },
  {
   "cell_type": "markdown",
   "id": "6985bf89-7b30-4e27-a641-7b45ba77f08f",
   "metadata": {},
   "source": [
    "---\n",
    "Above is the Z-score plotted and as the value crosses our threshold of +/-1.0 a new trade is opened. -indicated by the green pentagrams. <br />\n",
    "As the Z-score passes 0 our strategy will close our open trade, if we have any. -indicated by the red square.<br />\n",
    "The points are not aligned directly on the threshold lines as we only get prices updates every hour. But in general the entries <br />\n",
    "are around the +1 and -1 lines while the exits are centered around 0.\n",
    "\n",
    "---"
   ]
  },
  {
   "cell_type": "code",
   "execution_count": null,
   "id": "01f20cbb-df06-4c81-9f09-fb95872a91b8",
   "metadata": {},
   "outputs": [],
   "source": []
  }
 ],
 "metadata": {
  "kernelspec": {
   "display_name": "Python310",
   "language": "python",
   "name": "python310"
  },
  "language_info": {
   "codemirror_mode": {
    "name": "ipython",
    "version": 3
   },
   "file_extension": ".py",
   "mimetype": "text/x-python",
   "name": "python",
   "nbconvert_exporter": "python",
   "pygments_lexer": "ipython3",
   "version": "3.10.0"
  }
 },
 "nbformat": 4,
 "nbformat_minor": 5
}
